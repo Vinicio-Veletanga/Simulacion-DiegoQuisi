{
 "cells": [
  {
   "cell_type": "code",
   "execution_count": 2,
   "metadata": {},
   "outputs": [
    {
     "data": {
      "image/png": "[encoded data removed]",
      "text/plain": [
       "<Figure size 432x288 with 1 Axes>"
      ]
     },
     "metadata": {
      "needs_background": "light"
     },
     "output_type": "display_data"
    },
    {
     "name": "stdout",
     "output_type": "stream",
     "text": [
      "Valor: 2 Porcentaje: 2.4 %\n",
      "Valor: 3 Porcentaje: 7.2 %\n",
      "Valor: 4 Porcentaje: 7.6 %\n",
      "Valor: 5 Porcentaje: 10.0 %\n",
      "Valor: 6 Porcentaje: 14.4 %\n",
      "Valor: 7 Porcentaje: 20.4 %\n",
      "Valor: 8 Porcentaje: 14.0 %\n",
      "Valor: 9 Porcentaje: 9.2 %\n",
      "Valor: 10 Porcentaje: 4.4 %\n",
      "Valor: 11 Porcentaje: 5.2 %\n",
      "Valor: 12 Porcentaje: 5.2 %\n"
     ]
    }
   ],
   "source": [
    "#SE IMPORTA LAS LIBRERIAS NECESARIAS\n",
    "import json\n",
    "import random\n",
    "from collections import Counter\n",
    "import matplotlib.pyplot as plt\n",
    "#SE CREA EL METODO PARA GENERAR LOS DADOS\n",
    "def generarGraficasDados(cant):\n",
    "    #SE CREAR UNA ARREGLO DE ACUMULACION\n",
    "    acumulacion_dados = []\n",
    "    for i in range(cant):\n",
    "        #SE CONFIGURA PARA QUE LE LANZE LOS DADOS Y GENERAR LOS\n",
    "        #PUNTOS ALEATORIOS\n",
    "        A_DADO = random.randint(1, 6)\n",
    "        B_DADO = random.randint(1, 6)\n",
    "        #SE AGREGA LA ACUMULACION O SUMA DE LOS DOS DADOS LANZADOS\n",
    "        acumulacion_dados.append(A_DADO + B_DADO)\n",
    "    #SE APLICA  CONTRAR LOS NUMEROS OBTENIDOS\n",
    "    cnumeros = Counter(acumulacion_dados)\n",
    "    #SE GRAFICA EL HISTOGRAMA\n",
    "    plt.title('HISTOGRAMAS CON VALORES DE '+ str(cant))\n",
    "    plt.hist(acumulacion_dados, bins = cant, width = 0.5, alpha = 0.7, edgecolor = 'red')\n",
    "    plt.grid(axis = 'y', alpha = 0.75)\n",
    "    plt.xlabel('VALOR ', fontsize = 15)\n",
    "    plt.ylabel('FRECUENCIA ', fontsize = 15)\n",
    "    plt.xticks(range(0, max(cnumeros.keys()) + 1))\n",
    "    plt.show()\n",
    "    for i in sorted(cnumeros.items()):\n",
    "        print(\"VALOR: {} PORCENTAJE: {} %\".format(i[0], round((i[1]/cant) * 100, 2)))\n",
    "#SE EJECUTA EL METODO PARA LOS DADOS\n",
    "generarGraficasDados(250)"
   ]
  }
 ],
 "metadata": {
  "kernelspec": {
   "display_name": "Python 3",
   "language": "python",
   "name": "python3"
  },
  "language_info": {
   "codemirror_mode": {
    "name": "ipython",
    "version": 3
   },
   "file_extension": ".py",
   "mimetype": "text/x-python",
   "name": "python",
   "nbconvert_exporter": "python",
   "pygments_lexer": "ipython3",
   "version": "3.8.8"
  }
 },
 "nbformat": 4,
 "nbformat_minor": 4
}
